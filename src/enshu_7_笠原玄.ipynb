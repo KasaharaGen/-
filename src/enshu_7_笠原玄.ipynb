{
 "cells": [
  {
   "cell_type": "code",
   "execution_count": 1,
   "id": "eaf62290",
   "metadata": {},
   "outputs": [
    {
     "name": "stdout",
     "output_type": "stream",
     "text": [
      "代表点: [0 0 0] [1 1 1]\n",
      "最小加重距離和: 0.5\n"
     ]
    }
   ],
   "source": [
    "import numpy as np\n",
    "\n",
    "data = np.array([\n",
    "    [0,0,0], [0,0,1], [1,0,0], [1,1,1], [1,1,0],\n",
    "    [0,0,0], [1,1,1], [0,1,1], [1,1,1], [0,0,1]\n",
    "])\n",
    "\n",
    "n, p = data.shape\n",
    "\n",
    "# ベクトルの候補\n",
    "candidate = np.array([list(map(int, format(i, '03b'))) for i in range(2**p)])\n",
    "\n",
    "#出現確率\n",
    "countvec = np.zeros(2**p)\n",
    "for i in range(n):\n",
    "    for j in range(2**p):\n",
    "        if np.array_equal(data[i], candidate[j]):\n",
    "            countvec[j] += 1\n",
    "probvec = countvec / n\n",
    "\n",
    "# ハミング距離\n",
    "dismatrix = np.zeros((2**p, 2**p))\n",
    "for i in range(2**p):\n",
    "    for j in range(2**p):\n",
    "        dismatrix[i, j] = np.sum(candidate[i] != candidate[j])\n",
    "\n",
    "#全探索により最小の2点を求める\n",
    "min_cost = float('inf')\n",
    "best_pair = None\n",
    "\n",
    "for i in range(2**p):\n",
    "    for j in range(i+1, 2**p):\n",
    "        total_cost = 0\n",
    "        for num in range(2**p):\n",
    "            d_i = dismatrix[i, num]\n",
    "            d_j = dismatrix[j, num]\n",
    "            total_cost += min(d_i, d_j) * probvec[num]\n",
    "        if total_cost < min_cost:\n",
    "            min_cost = total_cost\n",
    "            best_pair = (i, j)\n",
    "\n",
    "\n",
    "print(\"代表点:\", candidate[best_pair[0]], candidate[best_pair[1]])\n",
    "print(\"最小加重距離和:\", min_cost)"
   ]
  },
  {
   "cell_type": "code",
   "execution_count": 2,
   "id": "28e3faa7",
   "metadata": {},
   "outputs": [
    {
     "name": "stdout",
     "output_type": "stream",
     "text": [
      "代表点: [0 0 0] [1 1 1]\n",
      "貪欲法による距離和: 0.5\n"
     ]
    }
   ],
   "source": [
    "top2 = np.argsort(probvec)[-2:]\n",
    "greedy_pp = list(top2)\n",
    "\n",
    "improved = True\n",
    "while improved:\n",
    "    improved = False\n",
    "    for i in range(2):\n",
    "        for new_idx in range(2**p):\n",
    "            if new_idx not in greedy_pp:\n",
    "                temp = greedy_pp.copy()\n",
    "                temp[i] = new_idx\n",
    "                cost = 0\n",
    "                for num in range(2**p):\n",
    "                    d1 = dismatrix[temp[0], num]\n",
    "                    d2 = dismatrix[temp[1], num]\n",
    "                    cost += min(d1, d2) * probvec[num]\n",
    "            \n",
    "                current_cost = sum(\n",
    "                    min(dismatrix[greedy_pp[0], num], dismatrix[greedy_pp[1], num]) * probvec[num]\n",
    "                    for num in range(2**p)\n",
    "                )\n",
    "                if cost < current_cost:\n",
    "                    greedy_pp = temp\n",
    "                    improved = True\n",
    "\n",
    "\n",
    "print(\"代表点:\", candidate[greedy_pp[0]], candidate[greedy_pp[1]])\n",
    "print(\"貪欲法による距離和:\", current_cost)\n"
   ]
  },
  {
   "cell_type": "code",
   "execution_count": null,
   "id": "97f22f7c",
   "metadata": {},
   "outputs": [],
   "source": []
  }
 ],
 "metadata": {
  "kernelspec": {
   "display_name": "torch",
   "language": "python",
   "name": "python3"
  },
  "language_info": {
   "codemirror_mode": {
    "name": "ipython",
    "version": 3
   },
   "file_extension": ".py",
   "mimetype": "text/x-python",
   "name": "python",
   "nbconvert_exporter": "python",
   "pygments_lexer": "ipython3",
   "version": "3.12.7"
  }
 },
 "nbformat": 4,
 "nbformat_minor": 5
}
